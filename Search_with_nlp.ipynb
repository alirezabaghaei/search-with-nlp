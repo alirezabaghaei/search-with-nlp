{
  "nbformat": 4,
  "nbformat_minor": 0,
  "metadata": {
    "colab": {
      "provenance": []
    },
    "kernelspec": {
      "name": "python3",
      "display_name": "Python 3"
    },
    "language_info": {
      "name": "python"
    }
  },
  "cells": [
    {
      "cell_type": "markdown",
      "source": [
        "#Search with NLP project"
      ],
      "metadata": {
        "id": "QWdYj2R4PDYa"
      }
    },
    {
      "cell_type": "markdown",
      "source": [
        "#install packages"
      ],
      "metadata": {
        "id": "BWi9HMo6PSZo"
      }
    },
    {
      "cell_type": "code",
      "source": [
        "!pip install PyPDF2\n",
        "!pip install sentence_transformers"
      ],
      "metadata": {
        "id": "YVDvzgkLPLKe",
        "colab": {
          "base_uri": "https://localhost:8080/"
        },
        "outputId": "e332672a-2153-437a-aa1c-6860b8532e7c"
      },
      "execution_count": null,
      "outputs": [
        {
          "output_type": "stream",
          "name": "stdout",
          "text": [
            "Requirement already satisfied: PyPDF2 in /usr/local/lib/python3.10/dist-packages (3.0.1)\n",
            "Requirement already satisfied: sentence_transformers in /usr/local/lib/python3.10/dist-packages (3.0.1)\n",
            "Requirement already satisfied: transformers<5.0.0,>=4.34.0 in /usr/local/lib/python3.10/dist-packages (from sentence_transformers) (4.44.2)\n",
            "Requirement already satisfied: tqdm in /usr/local/lib/python3.10/dist-packages (from sentence_transformers) (4.66.5)\n",
            "Requirement already satisfied: torch>=1.11.0 in /usr/local/lib/python3.10/dist-packages (from sentence_transformers) (2.4.0+cu121)\n",
            "Requirement already satisfied: numpy in /usr/local/lib/python3.10/dist-packages (from sentence_transformers) (1.26.4)\n",
            "Requirement already satisfied: scikit-learn in /usr/local/lib/python3.10/dist-packages (from sentence_transformers) (1.3.2)\n",
            "Requirement already satisfied: scipy in /usr/local/lib/python3.10/dist-packages (from sentence_transformers) (1.13.1)\n",
            "Requirement already satisfied: huggingface-hub>=0.15.1 in /usr/local/lib/python3.10/dist-packages (from sentence_transformers) (0.24.6)\n",
            "Requirement already satisfied: Pillow in /usr/local/lib/python3.10/dist-packages (from sentence_transformers) (9.4.0)\n",
            "Requirement already satisfied: filelock in /usr/local/lib/python3.10/dist-packages (from huggingface-hub>=0.15.1->sentence_transformers) (3.15.4)\n",
            "Requirement already satisfied: fsspec>=2023.5.0 in /usr/local/lib/python3.10/dist-packages (from huggingface-hub>=0.15.1->sentence_transformers) (2024.6.1)\n",
            "Requirement already satisfied: packaging>=20.9 in /usr/local/lib/python3.10/dist-packages (from huggingface-hub>=0.15.1->sentence_transformers) (24.1)\n",
            "Requirement already satisfied: pyyaml>=5.1 in /usr/local/lib/python3.10/dist-packages (from huggingface-hub>=0.15.1->sentence_transformers) (6.0.2)\n",
            "Requirement already satisfied: requests in /usr/local/lib/python3.10/dist-packages (from huggingface-hub>=0.15.1->sentence_transformers) (2.32.3)\n",
            "Requirement already satisfied: typing-extensions>=3.7.4.3 in /usr/local/lib/python3.10/dist-packages (from huggingface-hub>=0.15.1->sentence_transformers) (4.12.2)\n",
            "Requirement already satisfied: sympy in /usr/local/lib/python3.10/dist-packages (from torch>=1.11.0->sentence_transformers) (1.13.2)\n",
            "Requirement already satisfied: networkx in /usr/local/lib/python3.10/dist-packages (from torch>=1.11.0->sentence_transformers) (3.3)\n",
            "Requirement already satisfied: jinja2 in /usr/local/lib/python3.10/dist-packages (from torch>=1.11.0->sentence_transformers) (3.1.4)\n",
            "Requirement already satisfied: regex!=2019.12.17 in /usr/local/lib/python3.10/dist-packages (from transformers<5.0.0,>=4.34.0->sentence_transformers) (2024.5.15)\n",
            "Requirement already satisfied: safetensors>=0.4.1 in /usr/local/lib/python3.10/dist-packages (from transformers<5.0.0,>=4.34.0->sentence_transformers) (0.4.4)\n",
            "Requirement already satisfied: tokenizers<0.20,>=0.19 in /usr/local/lib/python3.10/dist-packages (from transformers<5.0.0,>=4.34.0->sentence_transformers) (0.19.1)\n",
            "Requirement already satisfied: joblib>=1.1.1 in /usr/local/lib/python3.10/dist-packages (from scikit-learn->sentence_transformers) (1.4.2)\n",
            "Requirement already satisfied: threadpoolctl>=2.0.0 in /usr/local/lib/python3.10/dist-packages (from scikit-learn->sentence_transformers) (3.5.0)\n",
            "Requirement already satisfied: MarkupSafe>=2.0 in /usr/local/lib/python3.10/dist-packages (from jinja2->torch>=1.11.0->sentence_transformers) (2.1.5)\n",
            "Requirement already satisfied: charset-normalizer<4,>=2 in /usr/local/lib/python3.10/dist-packages (from requests->huggingface-hub>=0.15.1->sentence_transformers) (3.3.2)\n",
            "Requirement already satisfied: idna<4,>=2.5 in /usr/local/lib/python3.10/dist-packages (from requests->huggingface-hub>=0.15.1->sentence_transformers) (3.8)\n",
            "Requirement already satisfied: urllib3<3,>=1.21.1 in /usr/local/lib/python3.10/dist-packages (from requests->huggingface-hub>=0.15.1->sentence_transformers) (2.0.7)\n",
            "Requirement already satisfied: certifi>=2017.4.17 in /usr/local/lib/python3.10/dist-packages (from requests->huggingface-hub>=0.15.1->sentence_transformers) (2024.8.30)\n",
            "Requirement already satisfied: mpmath<1.4,>=1.1.0 in /usr/local/lib/python3.10/dist-packages (from sympy->torch>=1.11.0->sentence_transformers) (1.3.0)\n"
          ]
        }
      ]
    },
    {
      "cell_type": "markdown",
      "source": [
        "#download data"
      ],
      "metadata": {
        "id": "GyEJxhU6PBTd"
      }
    },
    {
      "cell_type": "code",
      "source": [
        " import os\n",
        "# os.mkdir('/content/pdfs')"
      ],
      "metadata": {
        "id": "9Kb6To31v7N5"
      },
      "execution_count": null,
      "outputs": []
    },
    {
      "cell_type": "code",
      "source": [
        "!wget -O pdfs/ml.pdf  https://link.springer.com/content/pdf/10.1007/s42979-021-00592-x.pdf\n",
        "!wget -O pdfs/Tree.pdf https://core.ac.uk/download/pdf/250137461.pdf\n"
      ],
      "metadata": {
        "id": "av5RwMURP_vn",
        "colab": {
          "base_uri": "https://localhost:8080/"
        },
        "outputId": "c1fbaebe-a04c-41cd-be87-e77a07f4511b"
      },
      "execution_count": null,
      "outputs": [
        {
          "output_type": "stream",
          "name": "stdout",
          "text": [
            "--2024-09-05 11:00:28--  https://link.springer.com/content/pdf/10.1007/s42979-021-00592-x.pdf\n",
            "Resolving link.springer.com (link.springer.com)... 151.101.0.95, 151.101.64.95, 151.101.128.95, ...\n",
            "Connecting to link.springer.com (link.springer.com)|151.101.0.95|:443... connected.\n",
            "HTTP request sent, awaiting response... 303 See Other\n",
            "Location: https://idp.springer.com/authorize?response_type=cookie&client_id=springerlink&redirect_uri=https%3A%2F%2Flink.springer.com%2Fcontent%2Fpdf%2F10.1007%2Fs42979-021-00592-x.pdf [following]\n",
            "--2024-09-05 11:00:29--  https://idp.springer.com/authorize?response_type=cookie&client_id=springerlink&redirect_uri=https%3A%2F%2Flink.springer.com%2Fcontent%2Fpdf%2F10.1007%2Fs42979-021-00592-x.pdf\n",
            "Resolving idp.springer.com (idp.springer.com)... 151.101.0.95, 151.101.64.95, 151.101.128.95, ...\n",
            "Connecting to idp.springer.com (idp.springer.com)|151.101.0.95|:443... connected.\n",
            "HTTP request sent, awaiting response... 302 Found\n",
            "Location: https://link.springer.com/content/pdf/10.1007/s42979-021-00592-x.pdf [following]\n",
            "--2024-09-05 11:00:29--  https://link.springer.com/content/pdf/10.1007/s42979-021-00592-x.pdf\n",
            "Connecting to link.springer.com (link.springer.com)|151.101.0.95|:443... connected.\n",
            "HTTP request sent, awaiting response... 200 OK\n",
            "Length: 1725074 (1.6M) [application/pdf]\n",
            "Saving to: ‘pdfs/ml.pdf’\n",
            "\n",
            "pdfs/ml.pdf         100%[===================>]   1.64M  --.-KB/s    in 0.04s   \n",
            "\n",
            "2024-09-05 11:00:29 (40.4 MB/s) - ‘pdfs/ml.pdf’ saved [1725074/1725074]\n",
            "\n",
            "--2024-09-05 11:00:29--  https://core.ac.uk/download/pdf/250137461.pdf\n",
            "Resolving core.ac.uk (core.ac.uk)... 172.67.191.205, 104.21.20.56, 2606:4700:3030::6815:1438, ...\n",
            "Connecting to core.ac.uk (core.ac.uk)|172.67.191.205|:443... connected.\n",
            "HTTP request sent, awaiting response... 200 OK\n",
            "Length: 1931215 (1.8M) [application/pdf]\n",
            "Saving to: ‘pdfs/Tree.pdf’\n",
            "\n",
            "pdfs/Tree.pdf       100%[===================>]   1.84M  2.43MB/s    in 0.8s    \n",
            "\n",
            "2024-09-05 11:00:31 (2.43 MB/s) - ‘pdfs/Tree.pdf’ saved [1931215/1931215]\n",
            "\n"
          ]
        }
      ]
    },
    {
      "cell_type": "markdown",
      "source": [
        "#import packages"
      ],
      "metadata": {
        "id": "WodiJKXoPhPC"
      }
    },
    {
      "cell_type": "code",
      "execution_count": null,
      "metadata": {
        "colab": {
          "base_uri": "https://localhost:8080/"
        },
        "id": "DVPj1j6ZxUi1",
        "outputId": "4abc3ba3-ef7b-4b0e-ca57-211e385bc6dc"
      },
      "outputs": [
        {
          "output_type": "stream",
          "name": "stderr",
          "text": [
            "[nltk_data] Downloading package punkt to /root/nltk_data...\n",
            "[nltk_data]   Package punkt is already up-to-date!\n",
            "[nltk_data] Downloading package stopwords to /root/nltk_data...\n",
            "[nltk_data]   Package stopwords is already up-to-date!\n",
            "[nltk_data] Downloading package wordnet to /root/nltk_data...\n",
            "[nltk_data]   Package wordnet is already up-to-date!\n"
          ]
        }
      ],
      "source": [
        "from nltk.tokenize import sent_tokenize\n",
        "from PyPDF2 import PdfReader\n",
        "# import faiss\n",
        "import nltk\n",
        "from nltk.tokenize import word_tokenize\n",
        "from nltk.corpus import stopwords\n",
        "from nltk.stem import PorterStemmer, WordNetLemmatizer\n",
        "from nltk.cluster.util import cosine_distance\n",
        "nltk.download('punkt')\n",
        "nltk.download('stopwords')\n",
        "nltk.download('wordnet')\n",
        "from sentence_transformers import SentenceTransformer\n",
        "import os\n",
        "import numpy as np\n",
        "import spacy\n",
        "from spacy.lang.en.stop_words import STOP_WORDS\n",
        "from string import punctuation\n",
        "from heapq import nlargest\n",
        "from sklearn.feature_extraction.text import TfidfVectorizer\n",
        "from sklearn.metrics.pairwise import cosine_similarity\n",
        "import pandas as pd\n",
        "\n"
      ]
    },
    {
      "cell_type": "code",
      "source": [
        "import os\n",
        "STOP = stopwords.words(\"english\")\n",
        "text = \"\"\n",
        "\n",
        "for filename in os.listdir('/content/pdfs'):\n",
        "  if '.pdf' in filename:\n",
        "    reader = PdfReader(f'/content/pdfs/{filename}')\n",
        "  for page in reader.pages:\n",
        "    text += page.extract_text() + \"\\n\"\n"
      ],
      "metadata": {
        "id": "mWYUQ8SSWa3L"
      },
      "execution_count": null,
      "outputs": []
    },
    {
      "cell_type": "markdown",
      "source": [
        "#tokenize"
      ],
      "metadata": {
        "id": "07u9n6wwPvBj"
      }
    },
    {
      "cell_type": "code",
      "source": [
        "sentences = sent_tokenize(text)"
      ],
      "metadata": {
        "id": "5zPppcx9W4Xa"
      },
      "execution_count": null,
      "outputs": []
    },
    {
      "cell_type": "code",
      "source": [
        "len(sentences)"
      ],
      "metadata": {
        "colab": {
          "base_uri": "https://localhost:8080/"
        },
        "id": "UNHcXfsdZeEb",
        "outputId": "152745d3-da2a-438a-e232-7a8aa8af7427"
      },
      "execution_count": null,
      "outputs": [
        {
          "output_type": "execute_result",
          "data": {
            "text/plain": [
              "2861"
            ]
          },
          "metadata": {},
          "execution_count": 123
        }
      ]
    },
    {
      "cell_type": "markdown",
      "source": [
        "#clean stopwords"
      ],
      "metadata": {
        "id": "SZWAv9R1P4uU"
      }
    },
    {
      "cell_type": "code",
      "source": [
        "def sent_cleaner(sent):\n",
        "  words = word_tokenize(sent)\n",
        "  cleaned_words = [word for word in words if word.lower() not in stopwords.words('english') and word.isalpha()]\n",
        "  # for word in words:\n",
        "  #   if word.isalpha() and not(word.lower() in stopwords):\n",
        "  #     output.append(word)\n",
        "  return ' '.join(cleaned_words)"
      ],
      "metadata": {
        "id": "hYIQV4h-ZutU"
      },
      "execution_count": null,
      "outputs": []
    },
    {
      "cell_type": "code",
      "source": [
        "sent_cleaner(sentences[10])"
      ],
      "metadata": {
        "colab": {
          "base_uri": "https://localhost:8080/",
          "height": 52
        },
        "id": "QlZmdFIAZgXu",
        "outputId": "02ce56c4-94dd-40ee-b8f5-f8fe5c3f28e9"
      },
      "execution_count": null,
      "outputs": [
        {
          "output_type": "execute_result",
          "data": {
            "text/plain": [
              "'instance current tronic world wealth various kinds data Internet Things IoT data cybersecurity data smart city data business data smartphone data social media data health data data many'"
            ],
            "application/vnd.google.colaboratory.intrinsic+json": {
              "type": "string"
            }
          },
          "metadata": {},
          "execution_count": 149
        }
      ]
    },
    {
      "cell_type": "code",
      "source": [
        "cleaned_sents = list(map(sent_cleaner,sentences))"
      ],
      "metadata": {
        "id": "JU4l1RidZmCC"
      },
      "execution_count": null,
      "outputs": []
    },
    {
      "cell_type": "code",
      "source": [
        "cleaned_sents[10]"
      ],
      "metadata": {
        "colab": {
          "base_uri": "https://localhost:8080/",
          "height": 52
        },
        "id": "p0BgavUbbQcM",
        "outputId": "84ab7a01-3bcc-458f-b1a0-4e24a987e485"
      },
      "execution_count": null,
      "outputs": [
        {
          "output_type": "execute_result",
          "data": {
            "text/plain": [
              "'instance current tronic world wealth various kinds data Internet Things IoT data cybersecurity data smart city data business data smartphone data social media data health data data many'"
            ],
            "application/vnd.google.colaboratory.intrinsic+json": {
              "type": "string"
            }
          },
          "metadata": {},
          "execution_count": 129
        }
      ]
    },
    {
      "cell_type": "code",
      "source": [
        "def stemize_lemma(sent):\n",
        "  porter = PorterStemmer()\n",
        "  lema = WordNetLemmatizer()\n",
        "  words = word_tokenize(sent)\n",
        "  output = []\n",
        "  for word in words:\n",
        "      output.append(lema.lemmatize(porter.stem(word)))\n",
        "  return ' '.join(output)"
      ],
      "metadata": {
        "id": "9rXuZTL2bsuj"
      },
      "execution_count": null,
      "outputs": []
    },
    {
      "cell_type": "code",
      "source": [
        "stemize_lemma(cleaned_sents[10])"
      ],
      "metadata": {
        "colab": {
          "base_uri": "https://localhost:8080/",
          "height": 52
        },
        "id": "z_LH-FB6bSYl",
        "outputId": "2e9a763a-71f5-4920-d4ef-f886cb9c862e"
      },
      "execution_count": null,
      "outputs": [
        {
          "output_type": "execute_result",
          "data": {
            "text/plain": [
              "'instanc current tronic world wealth variou kind data internet thing iot data cybersecur data smart citi data busi data smartphon data social medium data health data data mani'"
            ],
            "application/vnd.google.colaboratory.intrinsic+json": {
              "type": "string"
            }
          },
          "metadata": {},
          "execution_count": 131
        }
      ]
    },
    {
      "cell_type": "code",
      "source": [
        "cleaned_sents = list(map(stemize_lemma,cleaned_sents))"
      ],
      "metadata": {
        "id": "wdMFqeYvcAP0"
      },
      "execution_count": null,
      "outputs": []
    },
    {
      "cell_type": "code",
      "source": [
        "# vectorizer = TfidfVectorizer(norm = None)\n",
        "# X = vectorizer.fit_transform(cleaned_sents).torray()\n",
        "# X.shape\n",
        "# from sklearn.feature_extraction.text import TfidfVectorizer\n",
        "\n",
        "# Initialize the vectorizer\n",
        "vectorizer = TfidfVectorizer(norm=None,max_features=700)\n",
        "\n",
        "# Fit and transform the cleaned sentences\n",
        "X = vectorizer.fit_transform(cleaned_sents).toarray()\n",
        "\n",
        "print(X)"
      ],
      "metadata": {
        "colab": {
          "base_uri": "https://localhost:8080/"
        },
        "id": "vphnW0Myc7bd",
        "outputId": "813c33c7-05ee-4f3c-ee8b-4ed6d488c6a3"
      },
      "execution_count": null,
      "outputs": [
        {
          "output_type": "stream",
          "name": "stdout",
          "text": [
            "[[0. 0. 0. ... 0. 0. 0.]\n",
            " [0. 0. 0. ... 0. 0. 0.]\n",
            " [0. 0. 0. ... 0. 0. 0.]\n",
            " ...\n",
            " [0. 0. 0. ... 0. 0. 0.]\n",
            " [0. 0. 0. ... 0. 0. 0.]\n",
            " [0. 0. 0. ... 0. 0. 0.]]\n"
          ]
        }
      ]
    },
    {
      "cell_type": "code",
      "source": [
        "def query_preprocess(query):\n",
        "  query = sent_cleaner(query)\n",
        "  query = stemize_lemma(query)\n",
        "  # Vectorizer = TfidfVectorizer(norm = None,max_features=700)\n",
        "  features = vectorizer.transform([query]).toarray()\n",
        "  # features = Vectorizer.transform\n",
        "  return features"
      ],
      "metadata": {
        "id": "yEc0Zu9-eGAI"
      },
      "execution_count": null,
      "outputs": []
    },
    {
      "cell_type": "code",
      "source": [
        "query = 'Decision trees are one of the most powerful'\n",
        "features = query_preprocess(query)"
      ],
      "metadata": {
        "id": "jOluMCNyfIYD"
      },
      "execution_count": null,
      "outputs": []
    },
    {
      "cell_type": "code",
      "source": [
        "print(features)"
      ],
      "metadata": {
        "colab": {
          "base_uri": "https://localhost:8080/"
        },
        "id": "W_3xjnIb5hPJ",
        "outputId": "38629d9e-e6ea-45e3-834b-2f004977f890"
      },
      "execution_count": null,
      "outputs": [
        {
          "output_type": "stream",
          "name": "stdout",
          "text": [
            "[[0.         0.         0.         0.         0.         0.\n",
            "  0.         0.         0.         0.         0.         0.\n",
            "  0.         0.         0.         0.         0.         0.\n",
            "  0.         0.         0.         0.         0.         0.\n",
            "  0.         0.         0.         0.         0.         0.\n",
            "  0.         0.         0.         0.         0.         0.\n",
            "  0.         0.         0.         0.         0.         0.\n",
            "  0.         0.         0.         0.         0.         0.\n",
            "  0.         0.         0.         0.         0.         0.\n",
            "  0.         0.         0.         0.         0.         0.\n",
            "  0.         0.         0.         0.         0.         0.\n",
            "  0.         0.         0.         0.         0.         0.\n",
            "  0.         0.         0.         0.         0.         0.\n",
            "  0.         0.         0.         0.         0.         0.\n",
            "  0.         0.         0.         0.         0.         0.\n",
            "  0.         0.         0.         0.         0.         0.\n",
            "  0.         0.         0.         0.         0.         0.\n",
            "  0.         0.         0.         0.         0.         0.\n",
            "  0.         0.         0.         0.         0.         0.\n",
            "  0.         0.         0.         0.         0.         0.\n",
            "  0.         0.         0.         0.         0.         0.\n",
            "  0.         0.         0.         0.         0.         0.\n",
            "  0.         0.         0.         0.         0.         0.\n",
            "  0.         0.         0.         0.         0.         0.\n",
            "  0.         0.         0.         0.         0.         0.\n",
            "  0.         0.         0.         0.         0.         0.\n",
            "  0.         0.         0.         0.         0.         0.\n",
            "  3.53874096 0.         0.         0.         0.         0.\n",
            "  0.         0.         0.         0.         0.         0.\n",
            "  0.         0.         0.         0.         0.         0.\n",
            "  0.         0.         0.         0.         0.         0.\n",
            "  0.         0.         0.         0.         0.         0.\n",
            "  0.         0.         0.         0.         0.         0.\n",
            "  0.         0.         0.         0.         0.         0.\n",
            "  0.         0.         0.         0.         0.         0.\n",
            "  0.         0.         0.         0.         0.         0.\n",
            "  0.         0.         0.         0.         0.         0.\n",
            "  0.         0.         0.         0.         0.         0.\n",
            "  0.         0.         0.         0.         0.         0.\n",
            "  0.         0.         0.         0.         0.         0.\n",
            "  0.         0.         0.         0.         0.         0.\n",
            "  0.         0.         0.         0.         0.         0.\n",
            "  0.         0.         0.         0.         0.         0.\n",
            "  0.         0.         0.         0.         0.         0.\n",
            "  0.         0.         0.         0.         0.         0.\n",
            "  0.         0.         0.         0.         0.         0.\n",
            "  0.         0.         0.         0.         0.         0.\n",
            "  0.         0.         0.         0.         0.         0.\n",
            "  0.         0.         0.         0.         0.         0.\n",
            "  0.         0.         0.         0.         0.         0.\n",
            "  0.         0.         0.         0.         0.         0.\n",
            "  0.         0.         0.         0.         0.         0.\n",
            "  0.         0.         0.         0.         0.         0.\n",
            "  0.         0.         0.         0.         0.         0.\n",
            "  0.         0.         0.         0.         0.         0.\n",
            "  0.         0.         0.         0.         0.         0.\n",
            "  0.         0.         0.         0.         0.         0.\n",
            "  0.         0.         0.         0.         0.         0.\n",
            "  0.         0.         0.         0.         0.         0.\n",
            "  0.         0.         0.         0.         0.         0.\n",
            "  0.         0.         0.         0.         0.         0.\n",
            "  0.         0.         0.         0.         0.         0.\n",
            "  0.         0.         0.         0.         0.         0.\n",
            "  0.         0.         0.         0.         0.         0.\n",
            "  0.         0.         0.         0.         0.         0.\n",
            "  0.         0.         0.         0.         0.         0.\n",
            "  0.         0.         0.         0.         0.         0.\n",
            "  0.         0.         0.         0.         0.         0.\n",
            "  0.         0.         0.         0.         0.         0.\n",
            "  0.         0.         0.         0.         0.         0.\n",
            "  0.         0.         0.         0.         0.         0.\n",
            "  0.         0.         0.         0.         0.         0.\n",
            "  0.         0.         0.         4.18859134 0.         0.\n",
            "  0.         0.         0.         0.         0.         0.\n",
            "  0.         0.         0.         0.         0.         0.\n",
            "  0.         0.         0.         0.         0.         0.\n",
            "  0.         0.         0.         0.         0.         0.\n",
            "  0.         0.         0.         0.         0.         0.\n",
            "  0.         0.         0.         0.         0.         0.\n",
            "  0.         0.         0.         6.25122576 0.         0.\n",
            "  0.         0.         0.         0.         0.         0.\n",
            "  0.         0.         0.         0.         0.         0.\n",
            "  0.         0.         0.         0.         0.         0.\n",
            "  0.         0.         0.         0.         0.         0.\n",
            "  0.         0.         0.         0.         0.         0.\n",
            "  0.         0.         0.         0.         0.         0.\n",
            "  0.         0.         0.         0.         0.         0.\n",
            "  0.         0.         0.         0.         0.         0.\n",
            "  0.         0.         0.         0.         0.         0.\n",
            "  0.         0.         0.         0.         0.         0.\n",
            "  0.         0.         0.         0.         0.         0.\n",
            "  0.         0.         0.         0.         0.         0.\n",
            "  0.         0.         0.         0.         0.         0.\n",
            "  0.         0.         0.         0.         0.         0.\n",
            "  0.         0.         0.         0.         0.         0.\n",
            "  0.         0.         0.         0.         0.         0.\n",
            "  0.         0.         0.         0.         0.         0.\n",
            "  0.         0.         0.         0.         0.         0.\n",
            "  0.         0.         0.         0.         0.         0.\n",
            "  0.         0.         0.         0.         0.         0.\n",
            "  0.         0.         0.         0.         0.         0.\n",
            "  0.         0.         0.         0.         0.         0.\n",
            "  0.         0.         0.         0.         0.         0.\n",
            "  0.         0.         0.         0.         0.         0.\n",
            "  0.         0.         0.         0.         0.         0.\n",
            "  0.         0.         0.         0.         0.         0.\n",
            "  0.         0.         0.         0.         0.         0.\n",
            "  0.         0.         0.         0.         0.         0.\n",
            "  0.         0.         0.         0.         3.24554315 0.\n",
            "  0.         0.         0.         0.         0.         0.\n",
            "  0.         0.         0.         0.         0.         0.\n",
            "  0.         0.         0.         0.         0.         0.\n",
            "  0.         0.         0.         0.         0.         0.\n",
            "  0.         0.         0.         0.         0.         0.\n",
            "  0.         0.         0.         0.         0.         0.\n",
            "  0.         0.         0.         0.         0.         0.\n",
            "  0.         0.         0.         0.        ]]\n"
          ]
        }
      ]
    },
    {
      "cell_type": "code",
      "source": [
        "features.shape"
      ],
      "metadata": {
        "colab": {
          "base_uri": "https://localhost:8080/"
        },
        "id": "x9JU84qidJEx",
        "outputId": "c4ff5bfa-a419-40df-a737-21351586bbbd"
      },
      "execution_count": null,
      "outputs": [
        {
          "output_type": "execute_result",
          "data": {
            "text/plain": [
              "(1, 700)"
            ]
          },
          "metadata": {},
          "execution_count": 137
        }
      ]
    },
    {
      "cell_type": "code",
      "source": [
        "features[0].shape"
      ],
      "metadata": {
        "colab": {
          "base_uri": "https://localhost:8080/"
        },
        "id": "jPV7zLNPeclN",
        "outputId": "8e9d2a7a-6f25-46fc-f723-b8cac15f1459"
      },
      "execution_count": null,
      "outputs": [
        {
          "output_type": "execute_result",
          "data": {
            "text/plain": [
              "(700,)"
            ]
          },
          "metadata": {},
          "execution_count": 138
        }
      ]
    },
    {
      "cell_type": "code",
      "source": [],
      "metadata": {
        "id": "lfLh4ubBgoge"
      },
      "execution_count": null,
      "outputs": []
    },
    {
      "cell_type": "code",
      "source": [
        "import pandas as pd"
      ],
      "metadata": {
        "id": "7oBPJBVzgZjt"
      },
      "execution_count": null,
      "outputs": []
    },
    {
      "cell_type": "code",
      "source": [
        "def search(query):\n",
        "  # feautres = query_preprocess(query)\n",
        "  # query = 'Decision trees are one of the most powerful'\n",
        "  features = query_preprocess(query)\n",
        "  rate_list = []\n",
        "\n",
        "  for i in range(len(X)):\n",
        "    rate = cosine_similarity(features[0].reshape(1,-1),X[i].reshape(1,-1))\n",
        "    rate_list.append(rate[0][0])\n",
        "\n",
        "  df = pd.DataFrame(zip(rate_list,sentences),columns = ['rate', 'sent'])\n",
        "  df2 = df.sort_values(by='rate',ascending=False).head(3)['sent']\n",
        "  output = ''\n",
        "  for txt in df2.values:\n",
        "    output+= txt\n",
        "    output += '\\n\\n'\n",
        "  return output,df"
      ],
      "metadata": {
        "id": "To-FQjrviLTc"
      },
      "execution_count": null,
      "outputs": []
    },
    {
      "cell_type": "code",
      "source": [],
      "metadata": {
        "colab": {
          "base_uri": "https://localhost:8080/",
          "height": 276
        },
        "id": "pERpiYX7Dhxv",
        "outputId": "03e0db5f-2367-40ed-b60e-7099a275cf97"
      },
      "execution_count": null,
      "outputs": [
        {
          "output_type": "execute_result",
          "data": {
            "text/plain": [
              "Empty DataFrame\n",
              "Columns: [rate, sent]\n",
              "Index: []"
            ],
            "text/html": [
              "\n",
              "  <div id=\"df-1e7f9d95-561b-4b3e-8c39-3c7ad32ffb11\" class=\"colab-df-container\">\n",
              "    <div>\n",
              "<style scoped>\n",
              "    .dataframe tbody tr th:only-of-type {\n",
              "        vertical-align: middle;\n",
              "    }\n",
              "\n",
              "    .dataframe tbody tr th {\n",
              "        vertical-align: top;\n",
              "    }\n",
              "\n",
              "    .dataframe thead th {\n",
              "        text-align: right;\n",
              "    }\n",
              "</style>\n",
              "<table border=\"1\" class=\"dataframe\">\n",
              "  <thead>\n",
              "    <tr style=\"text-align: right;\">\n",
              "      <th></th>\n",
              "      <th>rate</th>\n",
              "      <th>sent</th>\n",
              "    </tr>\n",
              "  </thead>\n",
              "  <tbody>\n",
              "  </tbody>\n",
              "</table>\n",
              "</div>\n",
              "    <div class=\"colab-df-buttons\">\n",
              "\n",
              "  <div class=\"colab-df-container\">\n",
              "    <button class=\"colab-df-convert\" onclick=\"convertToInteractive('df-1e7f9d95-561b-4b3e-8c39-3c7ad32ffb11')\"\n",
              "            title=\"Convert this dataframe to an interactive table.\"\n",
              "            style=\"display:none;\">\n",
              "\n",
              "  <svg xmlns=\"http://www.w3.org/2000/svg\" height=\"24px\" viewBox=\"0 -960 960 960\">\n",
              "    <path d=\"M120-120v-720h720v720H120Zm60-500h600v-160H180v160Zm220 220h160v-160H400v160Zm0 220h160v-160H400v160ZM180-400h160v-160H180v160Zm440 0h160v-160H620v160ZM180-180h160v-160H180v160Zm440 0h160v-160H620v160Z\"/>\n",
              "  </svg>\n",
              "    </button>\n",
              "\n",
              "  <style>\n",
              "    .colab-df-container {\n",
              "      display:flex;\n",
              "      gap: 12px;\n",
              "    }\n",
              "\n",
              "    .colab-df-convert {\n",
              "      background-color: #E8F0FE;\n",
              "      border: none;\n",
              "      border-radius: 50%;\n",
              "      cursor: pointer;\n",
              "      display: none;\n",
              "      fill: #1967D2;\n",
              "      height: 32px;\n",
              "      padding: 0 0 0 0;\n",
              "      width: 32px;\n",
              "    }\n",
              "\n",
              "    .colab-df-convert:hover {\n",
              "      background-color: #E2EBFA;\n",
              "      box-shadow: 0px 1px 2px rgba(60, 64, 67, 0.3), 0px 1px 3px 1px rgba(60, 64, 67, 0.15);\n",
              "      fill: #174EA6;\n",
              "    }\n",
              "\n",
              "    .colab-df-buttons div {\n",
              "      margin-bottom: 4px;\n",
              "    }\n",
              "\n",
              "    [theme=dark] .colab-df-convert {\n",
              "      background-color: #3B4455;\n",
              "      fill: #D2E3FC;\n",
              "    }\n",
              "\n",
              "    [theme=dark] .colab-df-convert:hover {\n",
              "      background-color: #434B5C;\n",
              "      box-shadow: 0px 1px 3px 1px rgba(0, 0, 0, 0.15);\n",
              "      filter: drop-shadow(0px 1px 2px rgba(0, 0, 0, 0.3));\n",
              "      fill: #FFFFFF;\n",
              "    }\n",
              "  </style>\n",
              "\n",
              "    <script>\n",
              "      const buttonEl =\n",
              "        document.querySelector('#df-1e7f9d95-561b-4b3e-8c39-3c7ad32ffb11 button.colab-df-convert');\n",
              "      buttonEl.style.display =\n",
              "        google.colab.kernel.accessAllowed ? 'block' : 'none';\n",
              "\n",
              "      async function convertToInteractive(key) {\n",
              "        const element = document.querySelector('#df-1e7f9d95-561b-4b3e-8c39-3c7ad32ffb11');\n",
              "        const dataTable =\n",
              "          await google.colab.kernel.invokeFunction('convertToInteractive',\n",
              "                                                    [key], {});\n",
              "        if (!dataTable) return;\n",
              "\n",
              "        const docLinkHtml = 'Like what you see? Visit the ' +\n",
              "          '<a target=\"_blank\" href=https://colab.research.google.com/notebooks/data_table.ipynb>data table notebook</a>'\n",
              "          + ' to learn more about interactive tables.';\n",
              "        element.innerHTML = '';\n",
              "        dataTable['output_type'] = 'display_data';\n",
              "        await google.colab.output.renderOutput(dataTable, element);\n",
              "        const docLink = document.createElement('div');\n",
              "        docLink.innerHTML = docLinkHtml;\n",
              "        element.appendChild(docLink);\n",
              "      }\n",
              "    </script>\n",
              "  </div>\n",
              "\n",
              "    </div>\n",
              "  </div>\n"
            ],
            "application/vnd.google.colaboratory.intrinsic+json": {
              "type": "dataframe",
              "variable_name": "df",
              "repr_error": "Out of range float values are not JSON compliant: nan"
            }
          },
          "metadata": {},
          "execution_count": 151
        },
        {
          "output_type": "display_data",
          "data": {
            "text/plain": [
              "<google.colab._quickchart_helpers.SectionTitle at 0x7b7bd544b400>"
            ],
            "text/html": [
              "<h4 class=\"colab-quickchart-section-title\">Time series</h4>\n",
              "<style>\n",
              "  .colab-quickchart-section-title {\n",
              "      clear: both;\n",
              "  }\n",
              "</style>"
            ]
          },
          "metadata": {}
        },
        {
          "output_type": "display_data",
          "data": {
            "text/plain": [
              "from matplotlib import pyplot as plt\n",
              "import seaborn as sns\n",
              "def _plot_series(series, series_name, series_index=0):\n",
              "  palette = list(sns.palettes.mpl_palette('Dark2'))\n",
              "  counted = (series['index']\n",
              "                .value_counts()\n",
              "              .reset_index(name='counts')\n",
              "              .rename({'index': 'index'}, axis=1)\n",
              "              .sort_values('index', ascending=True))\n",
              "  xs = counted['index']\n",
              "  ys = counted['counts']\n",
              "  plt.plot(xs, ys, label=series_name, color=palette[series_index % len(palette)])\n",
              "\n",
              "fig, ax = plt.subplots(figsize=(10, 5.2), layout='constrained')\n",
              "df_sorted = _df_0.sort_values('index', ascending=True)\n",
              "_plot_series(df_sorted, '')\n",
              "sns.despine(fig=fig, ax=ax)\n",
              "plt.xlabel('index')\n",
              "_ = plt.ylabel('count()')"
            ],
            "text/html": [
              "      <div class=\"colab-quickchart-chart-with-code\" id=\"chart-02f99b61-4607-4b13-a51e-e6b57cbd9869\">\n",
              "        <img style=\"width: 180px;\" src=\"data:image/png;base64,iVBORw0KGgoAAAANSUhEUgAAA/MAAAITCAYAAABLz0yVAAAAOXRFWHRTb2Z0d2FyZQBNYXRwbG90\n",
              "bGliIHZlcnNpb24zLjcuMSwgaHR0cHM6Ly9tYXRwbG90bGliLm9yZy/bCgiHAAAACXBIWXMAAA9h\n",
              "AAAPYQGoP6dpAAAjhElEQVR4nO3df6yW9X3/8dfxnORYOwUMKCRwoHA4tvUXghB+dDPaNDPGX5O1\n",
              "ug0XUvmhW4wZ3UQy2cLqxE2lWmniwRlWR8LMwFqyJkvUbo5WNmSr7cRZOJTDObYgXa0c1inlcK7v\n",
              "H6bn21N+eI7enOMHH4/kSrnv63PO/b6ST0589r7PdeqqqqoCAAAAFOO0oR4AAAAAGBgxDwAAAIUR\n",
              "8wAAAFAYMQ8AAACFEfMAAABQGDEPAAAAhRHzAAAAUBgxDwAAAIUR80kefvjhoR4BAAAA+k3MJ9mz\n",
              "Z89QjwAAAAD9JuYBAACgMGIeAAAACiPmAQAAoDBiHgAAAAoj5gEAAKAwYh4AAAAKI+YBAACgMGIe\n",
              "AAAACiPmAQAAoDBiHgAAAAoj5gEAAKAwYh4AAAAKI+YBAACgMGIeAAAACiPmAQAAoDBiHgAAAAoj\n",
              "5gEAAKAwYh4AAAAKI+YBAACgMGIeAAAACiPmAQAAoDBiHgAAAAoj5gEAAKAwYh4AAAAKI+YBAACg\n",
              "MGIeAAAACiPmAQAAoDBiHgAAAAoj5gEAAKAwYh4AAAAKI+YBAACgMGIeAAAACiPmAQAAoDBiHgAA\n",
              "AAoj5gEAAKAwYh4AAAAKI+YBAACgMGIeAAAACiPmAQAAoDBiHgAAAAoj5gEAAKAwYh4AAAAKI+YB\n",
              "AACgMGIeAAAACiPmAQAAoDBiHgAAAAoj5gEAAKAwYh4AAAAKI+YBAACgMGIeAAAACiPmAQAAoDBi\n",
              "HgAAAAoj5gEAAKAwYh4AAAAKI+YBAACgMGIeAAAACiPmAQAAoDBiHgAAAAoj5gEAAKAwYh4AAAAK\n",
              "I+YBAACgMB+ImN+5c2dmz56dlpaWTJ8+Pdu3bz/muscffzyTJ0/OpEmTsnDhwhw+fLjP+aqqcsUV\n",
              "V2T48OGDMDUAAAAMjQ9EzC9evDiLFi3Kjh07snTp0syfP/+oNbt3787y5cuzefPmtLW15fXXX8+a\n",
              "NWv6rPnSl76USZMmDdLUAAAAMDSGPOb379+fbdu2Zd68eUmSuXPnprOzM21tbX3WbdiwIddee21G\n",
              "jx6durq63HrrrVm/fn3v+e3bt+fpp5/OXXfddcLXO3ToULq6uvocR44cqf2FAQAAwEky5DHf2dmZ\n",
              "MWPGpKGhIUlSV1eXpqamdHR09FnX0dGR8ePH9z6eMGFC75rDhw9n4cKFaW1tTX19/Qlfb+XKlRk2\n",
              "bFifY+vWrTW+KgAAADh5hjzma2HFihW54YYb8olPfOJd1y5btiwHDhzoc8yYMWMQpgQAAIDaaBjq\n",
              "AcaNG5e9e/emu7s7DQ0NqaoqHR0daWpq6rOuqakpu3bt6n3c3t7eu+b5559PR0dHVq9ene7u7nR1\n",
              "dWXChAl58cUXM2rUqD7fp7GxMY2NjX2ee7d38wEAAOCDZMjfmT/nnHMyderUrFu3LkmycePGjB07\n",
              "Ns3NzX3WzZ07N5s2bcq+fftSVVUeffTR3HTTTUmSzZs3Z8+ePWlvb8+3vvWtnHXWWWlvbz8q5AEA\n",
              "AOBUMOQxnyStra1pbW1NS0tL7rvvvqxduzZJsmDBgmzatClJMnHixKxYsSJz5sxJc3NzRo0alcWL\n",
              "Fw/l2AAAADAk6qqqqoZ6iKG2ZMmSrFq1aqjHAAAAgH75QLwzDwAAAPSfmAcAAIDCiHkAAAAojJgH\n",
              "AACAwoh5AAAAKIyYBwAAgMKIeQAAACiMmAcAAIDCiHkAAAAojJgHAACAwoh5AAAAKIyYBwAAgMKI\n",
              "eQAAACiMmAcAAIDCiHkAAAAojJgHAACAwoh5AAAAKIyYBwAAgMKIeQAAACiMmAcAAIDCiHkAAAAo\n",
              "jJgHAACAwoh5AAAAKIyYBwAAgMKIeQAAACiMmAcAAIDCiHkAAAAojJgHAACAwoh5AAAAKIyYBwAA\n",
              "gMKIeQAAACiMmAcAAIDCiHkAAAAojJgHAACAwoh5AAAAKIyYBwAAgMKIeQAAACiMmAcAAIDCiHkA\n",
              "AAAojJgHAACAwoh5AAAAKIyYBwAAgMKIeQAAACiMmAcAAIDCiHkAAAAojJgHAACAwoh5AAAAKIyY\n",
              "BwAAgMKIeQAAACiMmAcAAIDCiHkAAAAojJgHAACAwoh5AAAAKIyYBwAAgMKIeQAAACiMmAcAAIDC\n",
              "iHkAAAAojJgHAACAwoh5AAAAKIyYBwAAgMKIeQAAACiMmAcAAIDCiHkAAAAojJgHAACAwoh5AAAA\n",
              "KIyYBwAAgMKIeQAAACiMmAcAAIDCiHkAAAAojJgHAACAwoh5AAAAKIyYBwAAgMKIeQAAACiMmAcA\n",
              "AIDCiHkAAAAojJgHAACAwoh5AAAAKIyYBwAAgMJ8IGJ+586dmT17dlpaWjJ9+vRs3779mOsef/zx\n",
              "TJ48OZMmTcrChQtz+PDhJMk3v/nNzJgxI5/85Cdz/vnn584770xPT89gXgIAAAAMmg9EzC9evDiL\n",
              "Fi3Kjh07snTp0syfP/+oNbt3787y5cuzefPmtLW15fXXX8+aNWuSJCNGjMjf//3f55VXXsl//Md/\n",
              "5IUXXsgTTzwxyFcBAAAAg2PIY37//v3Ztm1b5s2blySZO3duOjs709bW1mfdhg0bcu2112b06NGp\n",
              "q6vLrbfemvXr1ydJLrnkkkycODFJcvrpp2fKlClpb28/5usdOnQoXV1dfY4jR46cvAsEAACAGhvy\n",
              "mO/s7MyYMWPS0NCQJKmrq0tTU1M6Ojr6rOvo6Mj48eN7H0+YMOGoNUmyb9++bNiwIVdfffUxX2/l\n",
              "ypUZNmxYn2Pr1q01vCIAAAA4uYY85mupq6sr11xzTe68885ceumlx1yzbNmyHDhwoM8xY8aMQZ4U\n",
              "AAAA3ruGoR5g3Lhx2bt3b7q7u9PQ0JCqqtLR0ZGmpqY+65qamrJr167ex+3t7X3WHDx4MFdeeWWu\n",
              "u+66LFmy5Liv19jYmMbGxj7P1dfX1+hqAAAA4OQb8nfmzznnnEydOjXr1q1LkmzcuDFjx45Nc3Nz\n",
              "n3Vz587Npk2bsm/fvlRVlUcffTQ33XRTkuR///d/c+WVV+bKK6/M3XffPejXAAAAAINpyGM+SVpb\n",
              "W9Pa2pqWlpbcd999Wbt2bZJkwYIF2bRpU5Jk4sSJWbFiRebMmZPm5uaMGjUqixcvTpI8/PDD2bp1\n",
              "a5566qlMmTIlU6ZMyV/+5V8O2fUAAADAyVRXVVU11EMMtSVLlmTVqlVDPQYAAAD0ywfinXkAAACg\n",
              "/8Q8AAAAFEbMAwAAQGHEPAAAABRGzAMAAEBhxDwAAAAURswDAABAYcQ8AAAAFEbMAwAAQGHEPAAA\n",
              "ABRGzAMAAEBhxDwAAAAURswDAABAYcQ8AAAAFEbMAwAAQGHEPAAAABRGzAMAAEBhxDwAAAAURswD\n",
              "AABAYcQ8AAAAFEbMAwAAQGHEPAAAABRGzAMAAEBhxDwAAAAURswDAABAYcQ8AAAAFEbMAwAAQGHE\n",
              "PAAAABRGzAMAAEBhxDwAAAAURswDAABAYcQ8AAAAFEbMAwAAQGHEPAAAABRGzAMAAEBhxDwAAAAU\n",
              "RswDAABAYcQ8AAAAFEbMAwAAQGHEPAAAABRGzAMAAEBhxDwAAAAURswDAABAYcQ8AAAAFEbMAwAA\n",
              "QGHEPAAAABRGzAMAAEBhxDwAAAAURswDAABAYcQ8AAAAFEbMAwAAQGHEPAAAABRGzAMAAEBhxDwA\n",
              "AAAURswDAABAYcQ8AAAAFEbMAwAAQGHEPAAAABRGzAMAAEBhxDwAAAAURswDAABAYcQ8AAAAFEbM\n",
              "AwAAQGHEPAAAABSm4b180SuvvJLXXnstH/nIR3LhhRdm+PDhNR4LAAAAOJ5+x/zBgwfzwAMP5LHH\n",
              "HssZZ5yRc889N2+//XZ27dqVGTNmZOnSpfn0pz99MmcFAAAAMoCYv/zyy/P7v//7+c53vpNzzz23\n",
              "9/menp5s3rw5jz76aNra2rJ48eKTMigAAADwjn7H/Le//e00NjYe9fxpp52Wyy67LJdddlkOHTpU\n",
              "0+EAAACAo/X7BnjHCvn3sgYAAAB4f/od81dffXVeeOGFY55788038+CDD6a1tbVmgwEAAADH1u+P\n",
              "2d97771ZtmxZXnnllUyfPr33BnivvvpqfvjDH+YP//AP8/nPf/5kzgoAAABkADF/0UUX5Rvf+EY6\n",
              "Ozvz/PPP57XXXssZZ5yR3/u938unPvWpNDS8p79yBwAAAAzQgAv8pz/9aebNm9fnue9973u56KKL\n",
              "ajYUAAAAcHz9/p35X5g/f36/ngMAAABOjn6/M79///7s27cvb731Vv7rv/4rVVUlSQ4cOJCf/exn\n",
              "J21AAAAAoK9+x/z69evz0EMP5Uc/+lGuvfba3ueHDRuWO++886QMBwAAAByt3zF/xx135I477sgX\n",
              "v/jFLF++/GTOBAAAAJzAgG+At3z58vT09GTfvn3p7u7ufb6pqammgwEAAADHNuAb4H31q1/N8OHD\n",
              "c+GFF2batGmZNm1aLr300vc1xM6dOzN79uy0tLRk+vTp2b59+zHXPf7445k8eXImTZqUhQsX5vDh\n",
              "w/06BwAAAKeSAcf8X/zFX+TFF1/MT37yk/z4xz/Oj3/84+zfv/99DbF48eIsWrQoO3bsyNKlS495\n",
              "d/zdu3dn+fLl2bx5c9ra2vL6669nzZo173oOAAAATjUDjvmRI0fmvPPOq9kA+/fvz7Zt23r/dv3c\n",
              "uXPT2dmZtra2Pus2bNiQa6+9NqNHj05dXV1uvfXWrF+//l3PAQAAwKlmwDF//fXX56GHHsr+/fvT\n",
              "1dXVe7xXnZ2dGTNmTBoa3vn1/bq6ujQ1NaWjo6PPuo6OjowfP7738YQJE3rXnOjcrzp06FCfubu6\n",
              "unLkyJH3PD8AAAAMtgHH/J/+6Z9myZIlGT16dEaMGJHhw4dnxIgRJ2O2k2LlypUZNmxYn2Pr1q1D\n",
              "PRYAAAD024Bjvqenp/c4cuRI7/++V+PGjcvevXt774xfVVU6OjqOujt+U1NT9uzZ0/u4vb29d82J\n",
              "zv2qZcuW5cCBA32OGTNmvOf5AQAAYLANOOZr7ZxzzsnUqVOzbt26JMnGjRszduzYNDc391k3d+7c\n",
              "bNq0Kfv27UtVVXn00Udz0003veu5X9XY2Jizzjqrz1FfX39yLxIAAABqaMAxf9ppp6W+vv6o4/1o\n",
              "bW1Na2trWlpact9992Xt2rVJkgULFmTTpk1JkokTJ2bFihWZM2dOmpubM2rUqCxevPhdzwEAAMCp\n",
              "pq6qqmogX/Czn/2s999vvfVWnnjiiRw5ciR/8id/UvPhBsuSJUuyatWqoR4DAAAA+mXA78x/9KMf\n",
              "7T1GjhyZJUuWZMOGDSdjNgAAAOAY3vfvzL/66qv5n//5n1rMAgAAAPRDw0C/YMSIEamrq0uS3jvQ\n",
              "P/LII7WdCgAAADiuAcf8Sy+99P+/uKEho0ePdjd4AAAAGEQDjvnx48fn//7v/3qjfsSIETnjjDNq\n",
              "PRcAAABwHAOO+RdeeCFz587N6NGjkySvv/56Nm7cmFmzZtV8OAAAAOBoA475X9y9fs6cOUneifs/\n",
              "+qM/yr/927/VfDgAAADgaAO+m/1bb73VG/JJMnv27Lz99ts1HQoAAAA4vgHH/K/92q/l2Wef7X38\n",
              "3HPP5aMf/WhNhwIAAACOb8Afs//yl7+cG264ofcO9j09PXnqqadqPhgAAABwbAOO+R/96EfZtm1b\n",
              "Xn/99STJueeem61bt9Z8MAAAAODYBvwx++XLl2fUqFG54IILcsEFF2TkyJFZvnz5yZgNAAAAOIYB\n",
              "x/yvqqury5EjR2oxCwAAANAPA475M888My+88ELv429/+9s588wzazoUAAAAcHwD/p35v/7rv85v\n",
              "/dZv5eMf/3iSZOfOnfna175W88EAAACAYxtwzM+aNSv//d//nS1btiR55+/MDx8+vNZzAQAAAMcx\n",
              "4JhPkhEjRuSqq66q9SwAAABAP7zvG+ABAAAAg0vMAwAAQGHEPAAAABRGzAMAAEBhxDwAAAAURswD\n",
              "AABAYcQ8AAAAFEbMAwAAQGHEPAAAABRGzAMAAEBhxDwAAAAURswDAABAYcQ8AAAAFEbMAwAAQGHE\n",
              "PAAAABRGzAMAAEBhxDwAAAAURswDAABAYcQ8AAAAFEbMAwAAQGHEPAAAABRGzAMAAEBhxDwAAAAU\n",
              "RswDAABAYcQ8AAAAFEbMAwAAQGHEPAAAABRGzAMAAEBhxDwAAAAURswDAABAYcQ8AAAAFEbMAwAA\n",
              "QGHEPAAAABRGzAMAAEBhxDwAAAAURswDAABAYcQ8AAAAFEbMAwAAQGHEPAAAABRGzAMAAEBhxDwA\n",
              "AAAURswDAABAYcQ8AAAAFEbMAwAAQGHEPAAAABRGzAMAAEBhxDwAAAAURswDAABAYcQ8AAAAFEbM\n",
              "AwAAQGHEPAAAABRGzAMAAEBhxDwAAAAURswDAABAYcQ8AAAAFEbMAwAAQGHEPAAAABRGzAMAAEBh\n",
              "xDwAAAAURswDAABAYcQ8AAAAFEbMAwAAQGGGNOZ7enpy++23Z9KkSWlubs7q1auPu3bnzp2ZPXt2\n",
              "WlpaMn369Gzfvj1J8vbbb+f6669PS0tLLr744nzmM59JW1vbYF0CAAAADLohjfl169bllVdeyY4d\n",
              "O7J169bcf//9vZH+qxYvXpxFixZlx44dWbp0aebPn997btGiRfn+97+f7373u7nuuuuyYMGCQboC\n",
              "AAAAGHxDGvNPPvlkFi5cmPr6+px99tm58cYbs379+qPW7d+/P9u2bcu8efOSJHPnzk1nZ2fa2tpy\n",
              "+umn56qrrkpdXV2SZObMmWlvbz/uax46dChdXV19jiNHjpyU6wMAAICTYUhjvqOjI+PHj+99PGHC\n",
              "hHR0dBy1rrOzM2PGjElDQ0OSpK6uLk1NTcdc+/DDD+e666477muuXLkyw4YN63Ns3bq1BlcDAAAA\n",
              "g+OkxvysWbMycuTIYx6dnZ01f7177703bW1tWbly5XHXLFu2LAcOHOhzzJgxo+azAAAAwMnScDK/\n",
              "+ZYtW054vqmpKXv27MmsWbOSJO3t7Wlqajpq3bhx47J37950d3enoaEhVVWlo6Ojz9oHHnggTz31\n",
              "VJ599tmcccYZx33NxsbGNDY29nmuvr5+IJcFAAAAQ2pIP2b/2c9+No899liOHDmSN954I08++WRu\n",
              "vPHGo9adc845mTp1atatW5ck2bhxY8aOHZvm5uYkyapVq7J+/fo888wzGT58+GBeAgAAAAy6k/rO\n",
              "/Lu5+eab8+KLL2by5Mmpq6vLkiVLcuGFFyZJNm3alE2bNuVv/uZvkiStra2ZP39+7r333px11llZ\n",
              "u3ZtkuS1117LF77whUycODGXX355knfeff/3f//3obkoAAAAOMnqqqqqhnqIobZkyZKsWrVqqMcA\n",
              "AACAfhnSj9kDAAAAAyfmAQAAoDBiHgAAAAoj5gEAAKAwYh4AAAAKI+YBAACgMGIeAAAACiPmAQAA\n",
              "oDBiHgAAAAoj5gEAAKAwYh4AAAAKI+YBAACgMGIeAAAACiPmAQAAoDBiHgAAAAoj5gEAAKAwYh4A\n",
              "AAAKI+YBAACgMGIeAAAACiPmAQAAoDBiHgAAAAoj5gEAAKAwYh4AAAAKI+YBAACgMGIeAAAACiPm\n",
              "AQAAoDBiHgAAAAoj5gEAAKAwYh4AAAAKI+YBAACgMGIeAAAACiPmAQAAoDBiHgAAAAoj5gEAAKAw\n",
              "Yh4AAAAKI+YBAACgMGIeAAAACiPmAQAAoDBiHgAAAAoj5gEAAKAwYh4AAAAKI+YBAACgMGIeAAAA\n",
              "CiPmAQAAoDBiHgAAAAoj5gEAAKAwYh4AAAAKI+YBAACgMGIeAAAACiPmAQAAoDBiHgAAAAoj5gEA\n",
              "AKAwYh4AAAAKI+YBAACgMGIeAAAACiPmAQAAoDBiHgAAAAoj5gEAAKAwYh4AAAAKI+YBAACgMGIe\n",
              "AAAACiPmAQAAoDBiHgAAAAoj5gEAAKAwYh4AAAAKI+YBAACgMGIeAAAACiPmAQAAoDBiHgAAAAoj\n",
              "5gEAAKAwYh4AAAAKI+YBAACgMGIeAAAACiPmAQAAoDBiHgAAAAoj5gEAAKAwYh4AAAAKI+YBAACg\n",
              "MEMa8z09Pbn99tszadKkNDc3Z/Xq1cddu3PnzsyePTstLS2ZPn16tm/fftSatWvXpq6uLk8//fRJ\n",
              "nBoAAACG1pDG/Lp16/LKK69kx44d2bp1a+6///5jRnqSLF68OIsWLcqOHTuydOnSzJ8/v8/59vb2\n",
              "PPbYY5k5c+YgTA4AAABDZ0hj/sknn8zChQtTX1+fs88+OzfeeGPWr19/1Lr9+/dn27ZtmTdvXpJk\n",
              "7ty56ezsTFtbW5J33uFfsGBBHnnkkTQ2Np7wNQ8dOpSurq4+x5EjR2p/cQAAAHCSDGnMd3R0ZPz4\n",
              "8b2PJ0yYkI6OjqPWdXZ2ZsyYMWloaEiS1NXVpampqXftqlWrMmfOnEybNu1dX3PlypUZNmxYn2Pr\n",
              "1q01uiIAAAA4+U5qzM+aNSsjR4485tHZ2VmT13j55ZezcePG3H333f1av2zZshw4cKDPMWPGjJrM\n",
              "AgAAAIOh4WR+8y1btpzwfFNTU/bs2ZNZs2Yleef33puamo5aN27cuOzduzfd3d1paGhIVVXp6OhI\n",
              "U1NTnnnmmbS3t2fy5MlJkn379mXRokXZu3dvbrvttqO+V2Nj41Efxa+vr3+vlwgAAACDbkg/Zv/Z\n",
              "z342jz32WI4cOZI33ngjTz75ZG688caj1p1zzjmZOnVq1q1blyTZuHFjxo4dm+bm5tx2223Zu3dv\n",
              "2tvb097enpkzZ2bNmjXHDHkAAAA4FQxpzN988835+Mc/nsmTJ2f69OlZsmRJLrzwwiTJpk2bsmDB\n",
              "gt61ra2taW1tTUtLS+67776sXbt2qMYGAACAIVVXVVU11EMMtSVLlmTVqlVDPQYAAAD0y5C+Mw8A\n",
              "AAAMnJgHAACAwoh5AAAAKIyYBwAAgMKIeQAAACiMmAcAAIDCiHkAAAAojJgHAACAwoh5AAAAKIyY\n",
              "BwAAgMKIeQAAACiMmAcAAIDCiHkAAAAojJgHAACAwoh5AAAAKIyYBwAAgMKIeQAAACiMmAcAAIDC\n",
              "iHkAAAAojJgHAACAwoh5AAAAKIyYBwAAgMKIeQAAACiMmAcAAIDCiHkAAAAojJgHAACAwoh5AAAA\n",
              "KIyYBwAAgMKIeQAAACiMmAcAAIDCiHkAAAAojJgHAACAwoh5AAAAKIyYBwAAgMKIeQAAACiMmAcA\n",
              "AIDCiHkAAAAojJgHAACAwoh5AAAAKIyYBwAAgMKIeQAAACiMmAcAAIDCiHkAAAAojJgHAACAwoh5\n",
              "AAAAKIyYBwAAgMKIeQAAACiMmAcAAIDCiHkAAAAojJgHAACAwoh5AAAAKIyYBwAAgMKIeQAAACiM\n",
              "mAcAAIDCiHkAAAAojJgHAACAwoh5AAAAKIyYBwAAgMKIeQAAACiMmAcAAIDC1FVVVQ31EEPthhtu\n",
              "yIQJE4Z6DIbAkSNHsnXr1syYMSP19fVDPQ4ck31KCexTSmGvUgL7lPHjx+eOO+444Roxz4daV1dX\n",
              "hg0blgMHDuSss84a6nHgmOxTSmCfUgp7lRLYp/SHj9kDAABAYcQ8AAAAFEbMAwAAQGHEPB9qjY2N\n",
              "+fM///M0NjYO9ShwXPYpJbBPKYW9SgnsU/rDDfAAAACgMN6ZBwAAgMKIeQAAACiMmAcAAIDCiHlO\n",
              "eT09Pbn99tszadKkNDc3Z/Xq1cddu3PnzsyePTstLS2ZPn16tm/fftSatWvXpq6uLk8//fRJnJoP\n",
              "m1rs07fffjvXX399WlpacvHFF+czn/lM2traBusSOIX152djkjz++OOZPHlyJk2alIULF+bw4cP9\n",
              "Oge18H736Te/+c3MmDEjn/zkJ3P++efnzjvvTE9Pz2BeAh8Ctfh5miRVVeWKK67I8OHDB2FqPrAq\n",
              "OMV99atfra644oqqu7u7+slPflI1NTVVL7/88jHXXn755dXatWurqqqqf/iHf6guvfTSPud3795d\n",
              "zZo1q5o5c2b1ta997SRPzodJLfbpW2+9VX3jG9+oenp6qqqqqkceeaS67LLLBmN8TnHv9rOxqqrq\n",
              "Bz/4QTVmzJhq7969VU9PT3XNNddUq1evftdzUCvvd5/+53/+Z7Vr166qqt75eTpnzpze7we18n73\n",
              "6S88+OCD1YIFC6phw4YNwtR8UHlnnlPek08+mYULF6a+vj5nn312brzxxqxfv/6odfv378+2bdsy\n",
              "b968JMncuXPT2dnZ+85mT09PFixYkEceecSfCaHmarFPTz/99Fx11VWpq6tLksycOTPt7e2DeRmc\n",
              "gt7tZ+MvbNiwIddee21Gjx6durq63Hrrrb17+ETnoBZqsU8vueSSTJw4MUly+umnZ8qUKX6GUlO1\n",
              "2KdJsn379jz99NO56667BnV+PnjEPKe8jo6OjB8/vvfxhAkT0tHRcdS6zs7OjBkzJg0NDUmSurq6\n",
              "NDU19a5dtWpV5syZk2nTpg3O4Hyo1Gqf/rKHH34411133ckbmg+F/u65E+3h/u5veK9qsU9/2b59\n",
              "+7Jhw4ZcffXVJ3dwPlRqsU8PHz6chQsXprW1NfX19YM3PB9IDUM9ALxfs2bNys6dO4957jvf+U5N\n",
              "XuPll1/Oxo0b86//+q81+X58+AzGPv1l9957b9ra2vLcc8/V/HsDnMq6urpyzTXX5M4778yll146\n",
              "1ONAHytWrMgNN9yQT3ziEz45gpinfFu2bDnh+aampuzZsyezZs1KkrS3t6epqemodePGjcvevXvT\n",
              "3d2dhoaGVFWVjo6ONDU15Zlnnkl7e3smT56c5J3/x37RokXZu3dvbrvtttpfFKecwdinv/DAAw/k\n",
              "qaeeyrPPPpszzjijthfCh05/9lzyzh7etWtX7+Nf3sMnOge1UIt9miQHDx7MlVdemeuuuy5LliwZ\n",
              "tPn5cKjFPn3++efT0dGR1atXp7u7O11dXZkwYUJefPHFjBo1alCvhw+AIf2NfRgEa9euPerGYt/7\n",
              "3veOufayyy7rc1OSadOmHXedG+BRS7Xapw8++GA1derU6o033hiMsfmQ6M/Pxl27dh11w6ZHHnnk\n",
              "Xc9BrbzffXrw4MFq9uzZ1YoVKwZzbD5k3u8+/WW7d+92A7wPOTHPKa+7u7v6gz/4g+pjH/tYNXHi\n",
              "xOqhhx7qPff1r3+9uuWWW3ofv/rqq9XMmTOryZMnV9OmTTthTIl5aqkW+7Szs7NKUk2cOLG6+OKL\n",
              "q4svvriaMWPGoF8Lp57j7blbbrml+vrXv967bs2aNdXEiROriRMnVp///Oern//85/06B7Xwfvfp\n",
              "PffcUzU0NPT+/Lz44oure+65Z0iuhVNXLX6e/oKYp66qqmqoPx0AAAAA9J+72QMAAEBhxDwAAAAU\n",
              "RswDAABAYcQ8ANDHlClTcvDgwQF/3W//9m/nb//2b2s/EABwFH9nHgDo46WXXhrqEQCAd+GdeQCg\n",
              "j7q6urz55ptJkgkTJuTP/uzPMmvWrHzsYx/LPffc07vu1VdfzezZs3P++efn+uuvT1dXV++5gwcP\n",
              "ZuHChZkxY0YuuuiiLFq0KD//+c/z/e9/P2PHjs0PfvCDJMkDDzyQK6+8Mj09PYN6jQBQOjEPAJzQ\n",
              "m2++mS1btuTFF1/M/fffnx/+8IdJkptvvjm33HJLtm/fni9+8Yt5/vnne7/mC1/4Qn791389W7du\n",
              "zXe/+9309PTk4YcfznnnnZf7778/n/vc5/Iv//Iv+cpXvpK/+7u/y2mn+U8SABgIH7MHAE7od3/3\n",
              "d5MkI0eOzMSJE7N79+6ceeaZeemllzJ//vwkyYUXXphPfepTvV/z9NNPZ8uWLVm1alWS5K233kp9\n",
              "fX2S5Hd+53fyz//8z/nN3/zNPPfccxk1atTgXhAAnALEPABwQqeffnrvv+vr69Pd3X3MdXV1db3/\n",
              "rqoqGzduTEtLy1Hruru78/LLL+fss8/ufZcfABgYn2kDAAbsrLPOyiWXXJInnngiSbJ9+/Z861vf\n",
              "6j1//fXX56/+6q96w/+nP/1p2trakiR33XVXzjvvvGzevDl//Md/3Ps8ANB/Yh4AeE+eeOKJrFmz\n",
              "JhdccEHuvvvu/MZv/EbvuS996Uv5yEc+kilTpuSiiy7Kpz/96bS3t+cf//Ef80//9E/5yle+kubm\n",
              "5qxatSqf+9zn8vbbbw/hlQBAeeqqqqqGeggAAACg/7wzDwAAAIUR8wAAAFAYMQ8AAACFEfMAAABQ\n",
              "GDEPAAAAhRHzAAAAUBgxDwAAAIUR8wAAAFAYMQ8AAACFEfMAAABQmP8HVZ1NHWMT7VYAAAAASUVO\n",
              "RK5CYII=\n",
              "\">\n",
              "      </div>\n",
              "      <script type=\"text/javascript\">\n",
              "        (() => {\n",
              "          const chartElement = document.getElementById(\"chart-02f99b61-4607-4b13-a51e-e6b57cbd9869\");\n",
              "          async function getCodeForChartHandler(event) {\n",
              "            const chartCodeResponse =  await google.colab.kernel.invokeFunction(\n",
              "                'getCodeForChart', [\"chart-02f99b61-4607-4b13-a51e-e6b57cbd9869\"], {});\n",
              "            const responseJson = chartCodeResponse.data['application/json'];\n",
              "            await google.colab.notebook.addCell(responseJson.code, 'code');\n",
              "          }\n",
              "          chartElement.onclick = getCodeForChartHandler;\n",
              "        })();\n",
              "      </script>\n",
              "      <style>\n",
              "        .colab-quickchart-chart-with-code  {\n",
              "            display: block;\n",
              "            float: left;\n",
              "            border: 1px solid transparent;\n",
              "        }\n",
              "\n",
              "        .colab-quickchart-chart-with-code:hover {\n",
              "            cursor: pointer;\n",
              "            border: 1px solid #aaa;\n",
              "        }\n",
              "      </style>"
            ]
          },
          "metadata": {}
        }
      ]
    },
    {
      "cell_type": "code",
      "source": [
        "print(search('what is Decision trees')[1])"
      ],
      "metadata": {
        "colab": {
          "base_uri": "https://localhost:8080/"
        },
        "id": "7xNHtqREjwDD",
        "outputId": "9a241a15-4773-4ed0-ae98-4cc1fd2162a9"
      },
      "execution_count": null,
      "outputs": [
        {
          "output_type": "stream",
          "name": "stdout",
          "text": [
            "      rate                                               sent\n",
            "0      0.0                                               Vol.\n",
            "1      0.0  :(0123456789)SN Computer Science (2021) 2:160 ...\n",
            "2      0.0  To intel-\\nligently analyze these data and dev...\n",
            "3      0.0  Various types of machine learning algorithms s...\n",
            "4      0.0  Besides, the deep learning, which \\nis part of...\n",
            "...    ...                                                ...\n",
            "2856   0.0                    Morgan Kaufmann, San Francisco.\n",
            "2857   0.0                                         Retrieved.\n",
            "2858   0.0  Retrieved from \\nhttp://books.google.com/books...\n",
            "2859   0.0                             Breast Cancer Dataset.\n",
            "2860   0.0  Retrieved December 12, 2014, from \\nhttps://ar...\n",
            "\n",
            "[2861 rows x 2 columns]\n"
          ]
        }
      ]
    },
    {
      "cell_type": "code",
      "source": [
        "print(search('what is Reinforcement Learning')[0])"
      ],
      "metadata": {
        "id": "tl4y9Fs5j5sT",
        "colab": {
          "base_uri": "https://localhost:8080/"
        },
        "outputId": "681f66af-d665-43a7-8026-81c1c325f8ff"
      },
      "execution_count": null,
      "outputs": [
        {
          "output_type": "stream",
          "name": "stdout",
          "text": [
            "Reinforcement Learning  ................................ ................................ ...................  10 \n",
            "2.3.\n",
            "\n",
            "Reinforcement learning: \n",
            "a survey.\n",
            "\n",
            "Reinforcement Learning\n",
            "Reinforcement learning (RL) is a machine learning tech-\n",
            "nique that allows an agent to learn by trial and error in an \n",
            "interactive environment using input from its actions and \n",
            "experiences.\n",
            "\n",
            "\n"
          ]
        }
      ]
    }
  ]
}